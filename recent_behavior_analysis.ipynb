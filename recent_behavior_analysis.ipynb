{
 "cells": [
  {
   "cell_type": "code",
   "execution_count": 56,
   "metadata": {},
   "outputs": [
    {
     "name": "stdout",
     "output_type": "stream",
     "text": [
      "Populating the interactive namespace from numpy and matplotlib\n"
     ]
    },
    {
     "name": "stderr",
     "output_type": "stream",
     "text": [
      "/home/AD/acmai/anaconda3/lib/python3.6/site-packages/IPython/core/magics/pylab.py:160: UserWarning: pylab import has clobbered these variables: ['plotting']\n",
      "`%matplotlib` prevents importing * from pylab and numpy\n",
      "  \"\\n`%matplotlib` prevents importing * from pylab and numpy\"\n"
     ]
    }
   ],
   "source": [
    "%pylab inline\n",
    "\n",
    "import behav\n",
    "import behav.utils as utils\n",
    "from behav import plotting, loading\n",
    "data_path = '/mnt/cube/RawData/Magpi/'\n",
    "\n",
    "subjects = (\n",
    "            \"B1176\",\n",
    "            \"B999\"\n",
    "            )"
   ]
  },
  {
   "cell_type": "markdown",
   "metadata": {},
   "source": [
    "## Loads Data"
   ]
  },
  {
   "cell_type": "code",
   "execution_count": 64,
   "metadata": {},
   "outputs": [
    {
     "name": "stdout",
     "output_type": "stream",
     "text": [
      "CPU times: user 684 ms, sys: 60 ms, total: 744 ms\n",
      "Wall time: 984 ms\n"
     ]
    }
   ],
   "source": [
    "%%time\n",
    "behav_data = behav.loading.load_data_pandas([\"B1440\"],data_path)"
   ]
  },
  {
   "cell_type": "code",
   "execution_count": 65,
   "metadata": {},
   "outputs": [
    {
     "name": "stdout",
     "output_type": "stream",
     "text": [
      "Int64Index([10, 19, 19, 19, 19, 19, 19, 19, 19, 19,\n",
      "            ...\n",
      "            14, 14, 14, 14, 14, 14, 14, 14, 14, 14],\n",
      "           dtype='int64', name='time', length=113797)\n"
     ]
    }
   ],
   "source": [
    "for subj, data in behav_data.items():\n",
    "    print(data.index.hour)"
   ]
  },
  {
   "cell_type": "code",
   "execution_count": null,
   "metadata": {},
   "outputs": [],
   "source": []
  },
  {
   "cell_type": "code",
   "execution_count": 66,
   "metadata": {},
   "outputs": [
    {
     "name": "stdout",
     "output_type": "stream",
     "text": [
      "{'B1440':                             session  index       type_  \\\n",
      "time                                                     \n",
      "2019-05-22 10:51:48.724176        1      0      normal   \n",
      "2019-05-23 19:11:09.937490        1      0      normal   \n",
      "2019-05-23 19:12:58.481264        1      1      normal   \n",
      "2019-05-23 19:13:53.686248        1      2      normal   \n",
      "2019-05-23 19:14:05.065187        1      3      normal   \n",
      "2019-05-23 19:14:16.616046        1      4      normal   \n",
      "2019-05-23 19:14:40.286511        1      5      normal   \n",
      "2019-05-23 19:15:02.012866        1      6      normal   \n",
      "2019-05-23 19:15:55.458638        1      7  correction   \n",
      "2019-05-23 19:16:32.209649        1      8  correction   \n",
      "2019-05-23 19:16:42.943857        1      9  correction   \n",
      "2019-05-23 19:16:52.529075        1     10      normal   \n",
      "2019-05-23 19:17:04.998088        1     11      normal   \n",
      "2019-05-23 19:17:19.641813        1     12      normal   \n",
      "2019-05-23 19:17:33.481574        1     13      normal   \n",
      "2019-05-23 19:17:47.750435        1     14      normal   \n",
      "2019-05-23 19:17:58.786424        1     15      normal   \n",
      "2019-05-23 19:18:45.499087        1     16  correction   \n",
      "2019-05-23 19:18:53.578644        1     17      normal   \n",
      "2019-05-23 19:19:05.661503        1     18      normal   \n",
      "2019-05-23 19:19:19.087675        1     19      normal   \n",
      "2019-05-23 19:19:29.635573        1     20      normal   \n",
      "2019-05-23 19:19:42.597254        1     21      normal   \n",
      "2019-05-23 19:19:59.878003        1     22      normal   \n",
      "2019-05-23 19:20:11.629763        1     23      normal   \n",
      "2019-05-23 19:21:10.547959        1     24  correction   \n",
      "2019-05-23 19:22:03.676662        1     25  correction   \n",
      "2019-05-23 19:23:03.871920        1     26  correction   \n",
      "2019-05-23 19:23:10.865147        1     27      normal   \n",
      "2019-05-23 19:23:21.665532        1     28      normal   \n",
      "...                             ...    ...         ...   \n",
      "2019-10-03 14:22:48.991910      484      4  correction   \n",
      "2019-10-03 14:22:56.220199      484      5      normal   \n",
      "2019-10-03 14:23:07.072970      484      6      normal   \n",
      "2019-10-03 14:23:18.024804      484      7      normal   \n",
      "2019-10-03 14:24:01.664194      484      8  correction   \n",
      "2019-10-03 14:24:09.690272      484      9      normal   \n",
      "2019-10-03 14:24:21.585044      484     10      normal   \n",
      "2019-10-03 14:24:35.059178      484     11      normal   \n",
      "2019-10-03 14:25:40.527248      484     12  correction   \n",
      "2019-10-03 14:26:08.098211      484     13  correction   \n",
      "2019-10-03 14:26:16.791744      484     14      normal   \n",
      "2019-10-03 14:26:29.286273      484     15      normal   \n",
      "2019-10-03 14:26:40.343471      484     16      normal   \n",
      "2019-10-03 14:26:51.544024      484     17      normal   \n",
      "2019-10-03 14:27:02.163420      484     18      normal   \n",
      "2019-10-03 14:27:13.013733      484     19      normal   \n",
      "2019-10-03 14:27:23.893861      484     20      normal   \n",
      "2019-10-03 14:27:36.295170      484     21      normal   \n",
      "2019-10-03 14:27:48.134132      484     22      normal   \n",
      "2019-10-03 14:48:26.326204      484     23  correction   \n",
      "2019-10-03 14:48:34.768266      484     24      normal   \n",
      "2019-10-03 14:48:49.080226      484     25      normal   \n",
      "2019-10-03 14:49:00.624629      484     26      normal   \n",
      "2019-10-03 14:49:11.364248      484     27      normal   \n",
      "2019-10-03 14:49:23.075273      484     28      normal   \n",
      "2019-10-03 14:49:34.562699      484     29      normal   \n",
      "2019-10-03 14:49:45.213070      484     30      normal   \n",
      "2019-10-03 14:49:55.904851      484     31      normal   \n",
      "2019-10-03 14:50:07.374423      484     32      normal   \n",
      "2019-10-03 14:50:18.404101      484     33      normal   \n",
      "\n",
      "                                                                     stimulus  \\\n",
      "time                                                                            \n",
      "2019-05-22 10:51:48.724176  /home/bird/opdat/B1440/stims/Generated_Songs/B...   \n",
      "2019-05-23 19:11:09.937490  /home/bird/opdat/B1440/stims/Generated_Songs/A...   \n",
      "2019-05-23 19:12:58.481264  /home/bird/opdat/B1440/stims/Generated_Songs/A...   \n",
      "2019-05-23 19:13:53.686248  /home/bird/opdat/B1440/stims/Generated_Songs/B...   \n",
      "2019-05-23 19:14:05.065187  /home/bird/opdat/B1440/stims/Generated_Songs/A...   \n",
      "2019-05-23 19:14:16.616046  /home/bird/opdat/B1440/stims/Generated_Songs/B...   \n",
      "2019-05-23 19:14:40.286511  /home/bird/opdat/B1440/stims/Generated_Songs/B...   \n",
      "2019-05-23 19:15:02.012866  /home/bird/opdat/B1440/stims/Generated_Songs/C...   \n",
      "2019-05-23 19:15:55.458638  /home/bird/opdat/B1440/stims/Generated_Songs/C...   \n",
      "2019-05-23 19:16:32.209649  /home/bird/opdat/B1440/stims/Generated_Songs/C...   \n",
      "2019-05-23 19:16:42.943857  /home/bird/opdat/B1440/stims/Generated_Songs/C...   \n",
      "2019-05-23 19:16:52.529075  /home/bird/opdat/B1440/stims/Generated_Songs/B...   \n",
      "2019-05-23 19:17:04.998088  /home/bird/opdat/B1440/stims/Generated_Songs/B...   \n",
      "2019-05-23 19:17:19.641813  /home/bird/opdat/B1440/stims/Generated_Songs/B...   \n",
      "2019-05-23 19:17:33.481574  /home/bird/opdat/B1440/stims/Generated_Songs/A...   \n",
      "2019-05-23 19:17:47.750435  /home/bird/opdat/B1440/stims/Generated_Songs/B...   \n",
      "2019-05-23 19:17:58.786424  /home/bird/opdat/B1440/stims/Generated_Songs/B...   \n",
      "2019-05-23 19:18:45.499087  /home/bird/opdat/B1440/stims/Generated_Songs/B...   \n",
      "2019-05-23 19:18:53.578644  /home/bird/opdat/B1440/stims/Generated_Songs/B...   \n",
      "2019-05-23 19:19:05.661503  /home/bird/opdat/B1440/stims/Generated_Songs/B...   \n",
      "2019-05-23 19:19:19.087675  /home/bird/opdat/B1440/stims/Generated_Songs/B...   \n",
      "2019-05-23 19:19:29.635573  /home/bird/opdat/B1440/stims/Generated_Songs/B...   \n",
      "2019-05-23 19:19:42.597254  /home/bird/opdat/B1440/stims/Generated_Songs/A...   \n",
      "2019-05-23 19:19:59.878003  /home/bird/opdat/B1440/stims/Generated_Songs/A...   \n",
      "2019-05-23 19:20:11.629763  /home/bird/opdat/B1440/stims/Generated_Songs/B...   \n",
      "2019-05-23 19:21:10.547959  /home/bird/opdat/B1440/stims/Generated_Songs/B...   \n",
      "2019-05-23 19:22:03.676662  /home/bird/opdat/B1440/stims/Generated_Songs/B...   \n",
      "2019-05-23 19:23:03.871920  /home/bird/opdat/B1440/stims/Generated_Songs/B...   \n",
      "2019-05-23 19:23:10.865147  /home/bird/opdat/B1440/stims/Generated_Songs/B...   \n",
      "2019-05-23 19:23:21.665532  /home/bird/opdat/B1440/stims/Generated_Songs/B...   \n",
      "...                                                                       ...   \n",
      "2019-10-03 14:22:48.991910  /home/bird/opdat/B1440/stims/Generated_Songs/A...   \n",
      "2019-10-03 14:22:56.220199  /home/bird/opdat/B1440/stims/Generated_Songs/B...   \n",
      "2019-10-03 14:23:07.072970  /home/bird/opdat/B1440/stims/Generated_Songs/A...   \n",
      "2019-10-03 14:23:18.024804  /home/bird/opdat/B1440/stims/Generated_Songs/A...   \n",
      "2019-10-03 14:24:01.664194  /home/bird/opdat/B1440/stims/Generated_Songs/A...   \n",
      "2019-10-03 14:24:09.690272  /home/bird/opdat/B1440/stims/Generated_Songs/A...   \n",
      "2019-10-03 14:24:21.585044  /home/bird/opdat/B1440/stims/Generated_Songs/A...   \n",
      "2019-10-03 14:24:35.059178  /home/bird/opdat/B1440/stims/Generated_Songs/D...   \n",
      "2019-10-03 14:25:40.527248  /home/bird/opdat/B1440/stims/Generated_Songs/D...   \n",
      "2019-10-03 14:26:08.098211  /home/bird/opdat/B1440/stims/Generated_Songs/D...   \n",
      "2019-10-03 14:26:16.791744  /home/bird/opdat/B1440/stims/Generated_Songs/B...   \n",
      "2019-10-03 14:26:29.286273  /home/bird/opdat/B1440/stims/Generated_Songs/A...   \n",
      "2019-10-03 14:26:40.343471  /home/bird/opdat/B1440/stims/Generated_Songs/A...   \n",
      "2019-10-03 14:26:51.544024  /home/bird/opdat/B1440/stims/Generated_Songs/C...   \n",
      "2019-10-03 14:27:02.163420  /home/bird/opdat/B1440/stims/Generated_Songs/B...   \n",
      "2019-10-03 14:27:13.013733  /home/bird/opdat/B1440/stims/Generated_Songs/C...   \n",
      "2019-10-03 14:27:23.893861  /home/bird/opdat/B1440/stims/Generated_Songs/A...   \n",
      "2019-10-03 14:27:36.295170  /home/bird/opdat/B1440/stims/Generated_Songs/A...   \n",
      "2019-10-03 14:27:48.134132  /home/bird/opdat/B1440/stims/Generated_Songs/B...   \n",
      "2019-10-03 14:48:26.326204  /home/bird/opdat/B1440/stims/Generated_Songs/B...   \n",
      "2019-10-03 14:48:34.768266  /home/bird/opdat/B1440/stims/Generated_Songs/B...   \n",
      "2019-10-03 14:48:49.080226  /home/bird/opdat/B1440/stims/Generated_Songs/A...   \n",
      "2019-10-03 14:49:00.624629  /home/bird/opdat/B1440/stims/Generated_Songs/A...   \n",
      "2019-10-03 14:49:11.364248  /home/bird/opdat/B1440/stims/Generated_Songs/A...   \n",
      "2019-10-03 14:49:23.075273  /home/bird/opdat/B1440/stims/Generated_Songs/A...   \n",
      "2019-10-03 14:49:34.562699  /home/bird/opdat/B1440/stims/Generated_Songs/D...   \n",
      "2019-10-03 14:49:45.213070  /home/bird/opdat/B1440/stims/Generated_Songs/A...   \n",
      "2019-10-03 14:49:55.904851  /home/bird/opdat/B1440/stims/Generated_Songs/D...   \n",
      "2019-10-03 14:50:07.374423  /home/bird/opdat/B1440/stims/Generated_Songs/B...   \n",
      "2019-10-03 14:50:18.404101  /home/bird/opdat/B1440/stims/Generated_Songs/A...   \n",
      "\n",
      "                           class_ response correct        rt  reward  punish  \\\n",
      "time                                                                           \n",
      "2019-05-22 10:51:48.724176      L     none     NaN       NaN   False   False   \n",
      "2019-05-23 19:11:09.937490      R     none     NaN       NaN   False   False   \n",
      "2019-05-23 19:12:58.481264      R     none     NaN       NaN   False   False   \n",
      "2019-05-23 19:13:53.686248      L     none     NaN       NaN   False   False   \n",
      "2019-05-23 19:14:05.065187      R     none     NaN       NaN   False   False   \n",
      "2019-05-23 19:14:16.616046      L     none     NaN       NaN   False   False   \n",
      "2019-05-23 19:14:40.286511      L     none     NaN       NaN   False   False   \n",
      "2019-05-23 19:15:02.012866      R     left   False  2.430778   False    True   \n",
      "2019-05-23 19:15:55.458638      R     left   False  0.780528   False    True   \n",
      "2019-05-23 19:16:32.209649      R     none     NaN       NaN   False   False   \n",
      "2019-05-23 19:16:42.943857      R    right    True  0.903088   False   False   \n",
      "2019-05-23 19:16:52.529075      L     left    True  1.517386    True   False   \n",
      "2019-05-23 19:17:04.998088      L     left    True  3.215603    True   False   \n",
      "2019-05-23 19:17:19.641813      L     left    True  2.715724    True   False   \n",
      "2019-05-23 19:17:33.481574      R    right    True  3.604548    True   False   \n",
      "2019-05-23 19:17:47.750435      L     left    True  0.905574    True   False   \n",
      "2019-05-23 19:17:58.786424      L    right   False  4.251913   False    True   \n",
      "2019-05-23 19:18:45.499087      L     left    True  0.918835   False   False   \n",
      "2019-05-23 19:18:53.578644      L     left    True  0.907167    True   False   \n",
      "2019-05-23 19:19:05.661503      L     left    True  3.007660    True   False   \n",
      "2019-05-23 19:19:19.087675      L     none     NaN       NaN   False   False   \n",
      "2019-05-23 19:19:29.635573      L     left    True  1.742910    True   False   \n",
      "2019-05-23 19:19:42.597254      R     none     NaN       NaN   False   False   \n",
      "2019-05-23 19:19:59.878003      R    right    True  0.140945    True   False   \n",
      "2019-05-23 19:20:11.629763      L    right   False  0.734049   False    True   \n",
      "2019-05-23 19:21:10.547959      L    right   False  1.123794   False    True   \n",
      "2019-05-23 19:22:03.676662      L    right   False  0.296543   False    True   \n",
      "2019-05-23 19:23:03.871920      L     left    True  0.531675   False   False   \n",
      "2019-05-23 19:23:10.865147      L     none     NaN       NaN   False   False   \n",
      "2019-05-23 19:23:21.665532      L     left    True  1.556531    True   False   \n",
      "...                           ...      ...     ...       ...     ...     ...   \n",
      "2019-10-03 14:22:48.991910      R    right    True  0.563351   False   False   \n",
      "2019-10-03 14:22:56.220199      R    right    True  0.422143    True   False   \n",
      "2019-10-03 14:23:07.072970      R    right    True  0.125612    True   False   \n",
      "2019-10-03 14:23:18.024804      L    right   False  0.687162   False    True   \n",
      "2019-10-03 14:24:01.664194      L     left    True  0.969746   False   False   \n",
      "2019-10-03 14:24:09.690272      L     left    True  0.423518    True   False   \n",
      "2019-10-03 14:24:21.585044      L     left    True  0.734027   False   False   \n",
      "2019-10-03 14:24:35.059178      R     left   False  0.234896   False    True   \n",
      "2019-10-03 14:25:40.527248      R     none     NaN       NaN   False   False   \n",
      "2019-10-03 14:26:08.098211      R    right    True  0.421151   False   False   \n",
      "2019-10-03 14:26:16.791744      L     left    True  0.297687    True   False   \n",
      "2019-10-03 14:26:29.286273      L     left    True  0.515649    True   False   \n",
      "2019-10-03 14:26:40.343471      R    right    True  0.345284    True   False   \n",
      "2019-10-03 14:26:51.544024      R    right    True  0.172303    True   False   \n",
      "2019-10-03 14:27:02.163420      L     left    True  0.359715    True   False   \n",
      "2019-10-03 14:27:13.013733      R    right    True  0.203460    True   False   \n",
      "2019-10-03 14:27:23.893861      R    right    True  0.983561    True   False   \n",
      "2019-10-03 14:27:36.295170      L     left    True  0.874554    True   False   \n",
      "2019-10-03 14:27:48.134132      L    right   False  0.328438   False    True   \n",
      "2019-10-03 14:48:26.326204      L     left    True  0.594901   False   False   \n",
      "2019-10-03 14:48:34.768266      L     left    True  1.235494    True   False   \n",
      "2019-10-03 14:48:49.080226      R    right    True  0.188245    True   False   \n",
      "2019-10-03 14:49:00.624629      L     left    True  0.548681    True   False   \n",
      "2019-10-03 14:49:11.364248      L     left    True  0.592911    True   False   \n",
      "2019-10-03 14:49:23.075273      L     left    True  0.438100    True   False   \n",
      "2019-10-03 14:49:34.562699      R    right    True  0.563118    True   False   \n",
      "2019-10-03 14:49:45.213070      R    right    True  0.562306    True   False   \n",
      "2019-10-03 14:49:55.904851      R    right    True  0.469082    True   False   \n",
      "2019-10-03 14:50:07.374423      L     left    True  0.937375    True   False   \n",
      "2019-10-03 14:50:18.404101      R    right    True  0.438025    True   False   \n",
      "\n",
      "                                                                    data_file  \n",
      "time                                                                           \n",
      "2019-05-22 10:51:48.724176  /mnt/cube/RawData/Magpi/B1440/B1440_trialdata_...  \n",
      "2019-05-23 19:11:09.937490  /mnt/cube/RawData/Magpi/B1440/B1440_trialdata_...  \n",
      "2019-05-23 19:12:58.481264  /mnt/cube/RawData/Magpi/B1440/B1440_trialdata_...  \n",
      "2019-05-23 19:13:53.686248  /mnt/cube/RawData/Magpi/B1440/B1440_trialdata_...  \n",
      "2019-05-23 19:14:05.065187  /mnt/cube/RawData/Magpi/B1440/B1440_trialdata_...  \n",
      "2019-05-23 19:14:16.616046  /mnt/cube/RawData/Magpi/B1440/B1440_trialdata_...  \n",
      "2019-05-23 19:14:40.286511  /mnt/cube/RawData/Magpi/B1440/B1440_trialdata_...  \n",
      "2019-05-23 19:15:02.012866  /mnt/cube/RawData/Magpi/B1440/B1440_trialdata_...  \n",
      "2019-05-23 19:15:55.458638  /mnt/cube/RawData/Magpi/B1440/B1440_trialdata_...  \n",
      "2019-05-23 19:16:32.209649  /mnt/cube/RawData/Magpi/B1440/B1440_trialdata_...  \n",
      "2019-05-23 19:16:42.943857  /mnt/cube/RawData/Magpi/B1440/B1440_trialdata_...  \n",
      "2019-05-23 19:16:52.529075  /mnt/cube/RawData/Magpi/B1440/B1440_trialdata_...  \n",
      "2019-05-23 19:17:04.998088  /mnt/cube/RawData/Magpi/B1440/B1440_trialdata_...  \n",
      "2019-05-23 19:17:19.641813  /mnt/cube/RawData/Magpi/B1440/B1440_trialdata_...  \n",
      "2019-05-23 19:17:33.481574  /mnt/cube/RawData/Magpi/B1440/B1440_trialdata_...  \n",
      "2019-05-23 19:17:47.750435  /mnt/cube/RawData/Magpi/B1440/B1440_trialdata_...  \n",
      "2019-05-23 19:17:58.786424  /mnt/cube/RawData/Magpi/B1440/B1440_trialdata_...  \n",
      "2019-05-23 19:18:45.499087  /mnt/cube/RawData/Magpi/B1440/B1440_trialdata_...  \n",
      "2019-05-23 19:18:53.578644  /mnt/cube/RawData/Magpi/B1440/B1440_trialdata_...  \n",
      "2019-05-23 19:19:05.661503  /mnt/cube/RawData/Magpi/B1440/B1440_trialdata_...  \n",
      "2019-05-23 19:19:19.087675  /mnt/cube/RawData/Magpi/B1440/B1440_trialdata_...  \n",
      "2019-05-23 19:19:29.635573  /mnt/cube/RawData/Magpi/B1440/B1440_trialdata_...  \n",
      "2019-05-23 19:19:42.597254  /mnt/cube/RawData/Magpi/B1440/B1440_trialdata_...  \n",
      "2019-05-23 19:19:59.878003  /mnt/cube/RawData/Magpi/B1440/B1440_trialdata_...  \n",
      "2019-05-23 19:20:11.629763  /mnt/cube/RawData/Magpi/B1440/B1440_trialdata_...  \n",
      "2019-05-23 19:21:10.547959  /mnt/cube/RawData/Magpi/B1440/B1440_trialdata_...  \n",
      "2019-05-23 19:22:03.676662  /mnt/cube/RawData/Magpi/B1440/B1440_trialdata_...  \n",
      "2019-05-23 19:23:03.871920  /mnt/cube/RawData/Magpi/B1440/B1440_trialdata_...  \n",
      "2019-05-23 19:23:10.865147  /mnt/cube/RawData/Magpi/B1440/B1440_trialdata_...  \n",
      "2019-05-23 19:23:21.665532  /mnt/cube/RawData/Magpi/B1440/B1440_trialdata_...  \n",
      "...                                                                       ...  \n",
      "2019-10-03 14:22:48.991910  /mnt/cube/RawData/Magpi/B1440/B1440_trialdata_...  \n",
      "2019-10-03 14:22:56.220199  /mnt/cube/RawData/Magpi/B1440/B1440_trialdata_...  \n",
      "2019-10-03 14:23:07.072970  /mnt/cube/RawData/Magpi/B1440/B1440_trialdata_...  \n",
      "2019-10-03 14:23:18.024804  /mnt/cube/RawData/Magpi/B1440/B1440_trialdata_...  \n",
      "2019-10-03 14:24:01.664194  /mnt/cube/RawData/Magpi/B1440/B1440_trialdata_...  \n",
      "2019-10-03 14:24:09.690272  /mnt/cube/RawData/Magpi/B1440/B1440_trialdata_...  \n",
      "2019-10-03 14:24:21.585044  /mnt/cube/RawData/Magpi/B1440/B1440_trialdata_...  \n",
      "2019-10-03 14:24:35.059178  /mnt/cube/RawData/Magpi/B1440/B1440_trialdata_...  \n",
      "2019-10-03 14:25:40.527248  /mnt/cube/RawData/Magpi/B1440/B1440_trialdata_...  \n",
      "2019-10-03 14:26:08.098211  /mnt/cube/RawData/Magpi/B1440/B1440_trialdata_...  \n",
      "2019-10-03 14:26:16.791744  /mnt/cube/RawData/Magpi/B1440/B1440_trialdata_...  \n",
      "2019-10-03 14:26:29.286273  /mnt/cube/RawData/Magpi/B1440/B1440_trialdata_...  \n",
      "2019-10-03 14:26:40.343471  /mnt/cube/RawData/Magpi/B1440/B1440_trialdata_...  \n",
      "2019-10-03 14:26:51.544024  /mnt/cube/RawData/Magpi/B1440/B1440_trialdata_...  \n",
      "2019-10-03 14:27:02.163420  /mnt/cube/RawData/Magpi/B1440/B1440_trialdata_...  \n",
      "2019-10-03 14:27:13.013733  /mnt/cube/RawData/Magpi/B1440/B1440_trialdata_...  \n",
      "2019-10-03 14:27:23.893861  /mnt/cube/RawData/Magpi/B1440/B1440_trialdata_...  \n",
      "2019-10-03 14:27:36.295170  /mnt/cube/RawData/Magpi/B1440/B1440_trialdata_...  \n",
      "2019-10-03 14:27:48.134132  /mnt/cube/RawData/Magpi/B1440/B1440_trialdata_...  \n",
      "2019-10-03 14:48:26.326204  /mnt/cube/RawData/Magpi/B1440/B1440_trialdata_...  \n",
      "2019-10-03 14:48:34.768266  /mnt/cube/RawData/Magpi/B1440/B1440_trialdata_...  \n",
      "2019-10-03 14:48:49.080226  /mnt/cube/RawData/Magpi/B1440/B1440_trialdata_...  \n",
      "2019-10-03 14:49:00.624629  /mnt/cube/RawData/Magpi/B1440/B1440_trialdata_...  \n",
      "2019-10-03 14:49:11.364248  /mnt/cube/RawData/Magpi/B1440/B1440_trialdata_...  \n",
      "2019-10-03 14:49:23.075273  /mnt/cube/RawData/Magpi/B1440/B1440_trialdata_...  \n",
      "2019-10-03 14:49:34.562699  /mnt/cube/RawData/Magpi/B1440/B1440_trialdata_...  \n",
      "2019-10-03 14:49:45.213070  /mnt/cube/RawData/Magpi/B1440/B1440_trialdata_...  \n",
      "2019-10-03 14:49:55.904851  /mnt/cube/RawData/Magpi/B1440/B1440_trialdata_...  \n",
      "2019-10-03 14:50:07.374423  /mnt/cube/RawData/Magpi/B1440/B1440_trialdata_...  \n",
      "2019-10-03 14:50:18.404101  /mnt/cube/RawData/Magpi/B1440/B1440_trialdata_...  \n",
      "\n",
      "[113797 rows x 11 columns]}\n"
     ]
    }
   ],
   "source": [
    "print(behav_data)"
   ]
  },
  {
   "cell_type": "markdown",
   "metadata": {},
   "source": [
    "## plot performance over past two weeks in calendar"
   ]
  },
  {
   "cell_type": "code",
   "execution_count": 67,
   "metadata": {},
   "outputs": [
    {
     "data": {
      "image/png": "[encoded data removed]",
      "text/plain": [
       "<Figure size 1152x288 with 6 Axes>"
      ]
     },
     "metadata": {},
     "output_type": "display_data"
    }
   ],
   "source": [
    "from importlib import reload\n",
    "reload(plotting)\n",
    "for subj,data in behav_data.items():\n",
    "    behav.plotting.plot_filtered_performance_calendar(subj,data,num_days=20)    "
   ]
  },
  {
   "cell_type": "markdown",
   "metadata": {},
   "source": [
    "##plot accuracy per stim"
   ]
  },
  {
   "cell_type": "code",
   "execution_count": 68,
   "metadata": {},
   "outputs": [
    {
     "data": {
      "image/png": "[encoded data removed]",
      "text/plain": [
       "<Figure size 1152x288 with 2 Axes>"
      ]
     },
     "metadata": {},
     "output_type": "display_data"
    }
   ],
   "source": [
    "figsize(16.0, 4.0)\n",
    "for subj,df in behav_data.items():\n",
    "    behav.plotting.loc(subj, df, extract_stim_names=True)"
   ]
  },
  {
   "cell_type": "markdown",
   "metadata": {},
   "source": [
    "## Plot percent correct by block with confidence bounds"
   ]
  },
  {
   "cell_type": "code",
   "execution_count": null,
   "metadata": {},
   "outputs": [],
   "source": [
    "for subj,df in behav_data.items():\n",
    "    behav.plotting.plot_ci_accuracy(subj, df)"
   ]
  },
  {
   "cell_type": "markdown",
   "metadata": {},
   "source": [
    "##plot accuracy today"
   ]
  },
  {
   "cell_type": "code",
   "execution_count": null,
   "metadata": {
    "collapsed": true
   },
   "outputs": [],
   "source": [
    "for subj,df in behav_data.items():\n",
    "    behav.plotting.plot_daily_accuracy(subj, df, x_axis='trial_num')"
   ]
  },
  {
   "cell_type": "markdown",
   "metadata": {},
   "source": [
    "# Plot number of trials and feeds for past week"
   ]
  },
  {
   "cell_type": "code",
   "execution_count": null,
   "metadata": {},
   "outputs": [],
   "source": [
    "behav.plotting.plot_trial_feeds(behav_data)"
   ]
  }
 ],
 "metadata": {
  "kernelspec": {
   "display_name": "Python 3",
   "language": "python",
   "name": "python3"
  },
  "language_info": {
   "codemirror_mode": {
    "name": "ipython",
    "version": 3
   },
   "file_extension": ".py",
   "mimetype": "text/x-python",
   "name": "python",
   "nbconvert_exporter": "python",
   "pygments_lexer": "ipython3",
   "version": "3.6.5"
  }
 },
 "nbformat": 4,
 "nbformat_minor": 1
}
